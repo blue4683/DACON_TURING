{
 "cells": [
  {
   "cell_type": "code",
   "execution_count": null,
   "metadata": {},
   "outputs": [],
   "source": [
    "# 모델 생성 전 total.csv 파일 만들기 (크롤링한 데이터 전부 취합 정리 저장)"
   ]
  },
  {
   "cell_type": "code",
   "execution_count": 37,
   "metadata": {},
   "outputs": [],
   "source": [
    "import pandas as pd\n",
    "import numpy as np\n",
    "import os\n",
    "from sklearn.metrics import mean_squared_error\n",
    "import matplotlib.pyplot as plt\n",
    "import mpld3 #!pip install mpld3\n",
    "import tensorflow as tf"
   ]
  },
  {
   "cell_type": "code",
   "execution_count": null,
   "metadata": {},
   "outputs": [],
   "source": [
    "# total 불러오기\n",
    "def read_csv_by_dir(path, index_col=None):\n",
    "    df_raw = pd.DataFrame()\n",
    "    for files in os.listdir(path):\n",
    "        if files.endswith('.csv'):\n",
    "            df = pd.read_csv('/'.join([path,files]),\n",
    "                            index_col=index_col)\n",
    "        df_raw = pd.concat((df_raw,df),axis=0)\n",
    "    return df_raw\n",
    "\n",
    "path = os.getcwd()\n",
    "df_rf = read_csv_by_dir('/'.join([path,'competition_data/rf_data']), index_col=0)\n",
    "df_water = read_csv_by_dir('/'.join([path,'competition_data/water_data']), index_col=0)\n",
    "\n",
    "def index_to_datetime(df,format):\n",
    "    df.index = pd.to_datetime(df.index, format=format)\n",
    "    return df\n",
    "\n",
    "df_rf=index_to_datetime(df=df_rf,format='%Y-%m-%d %H:%M')\n",
    "df_water=index_to_datetime(df=df_water,format='%Y-%m-%d %H:%M')\n",
    "\n",
    "df_rf.sort_index(inplace=True)\n",
    "df_water.sort_index(inplace=True)\n",
    "\n",
    "total=pd.concat((df_rf, df_water), axis=1)\n",
    "total.drop(['fw_1018680'], axis=1, inplace=True)\n",
    "total=total[['rf_10184100', 'rf_10184110', 'rf_10184140', 'swl', 'inf', 'sfw', 'ecpc', 'tototf', 'tide_level', 'fw_1018662', 'fw_1018683', 'fw_1019630', 'wl_1018662', 'wl_1018680', 'wl_1018683', 'wl_1019630']]\n",
    "평가_데이터 = pd.read_csv('./competition_data/평가지표데이터.csv')\n",
    "temp_df = 평가_데이터.iloc[:,-4:]\n",
    "temp_df = temp_df.set_index(평가_데이터['ymdhm'])\n",
    "total.loc['2022-06-01 00:00':,:].iloc[:,-4:] = temp_df\n",
    "\n",
    "total.fillna(total.mean(), inplace=True)\n",
    "total['inf'].replace(0.0, np.NaN, inplace=True)\n",
    "total['fw_1018683'].replace(0.0, np.NaN, inplace=True)\n",
    "total['inf'].interpolate(inplace=True)\n",
    "total['fw_1018683'].interpolate(inplace=True)\n",
    "total.to_csv('total.csv')"
   ]
  },
  {
   "cell_type": "code",
   "execution_count": null,
   "metadata": {},
   "outputs": [],
   "source": []
  },
  {
   "cell_type": "code",
   "execution_count": null,
   "metadata": {},
   "outputs": [],
   "source": [
    "# 모델 생성 저장"
   ]
  },
  {
   "cell_type": "code",
   "execution_count": null,
   "metadata": {},
   "outputs": [],
   "source": [
    "import pandas as pd\n",
    "import numpy as np\n",
    "import os\n",
    "from sklearn.metrics import mean_squared_error\n",
    "import matplotlib.pyplot as plt\n",
    "import mpld3 #!pip install mpld3\n",
    "import tensorflow as tf\n",
    "from sklearn.preprocessing import StandardScaler\n",
    "\n",
    "total_csv = pd.read_csv('total.csv')\n",
    "total_csv.set_index('ymdhm', inplace=True)\n",
    "\n",
    "mms1 = StandardScaler()\n",
    "mms2 = StandardScaler()\n",
    "mms1.fit(total_csv.iloc[:,:-1])\n",
    "mms2.fit(total_csv.iloc[:,-1:])\n",
    "dataset1 = mms1.transform(total_csv.iloc[:,:-1])\n",
    "dataset2 = mms2.transform(total_csv.iloc[:,-1:])\n",
    "dataset=np.concatenate([dataset1, dataset2], axis=1)\n",
    "\n",
    "def multivariate_data(dataset, target, start_index, end_index, history_size, target_size, step, single_step = False):\n",
    "    data = []\n",
    "    labels = []\n",
    "    start_index = start_index + history_size\n",
    "    if end_index is None:\n",
    "        end_index = len(dataset) - target_size\n",
    "    for i in range(start_index, end_index):\n",
    "        indices = range(i-history_size, i, step)\n",
    "        data.append(dataset[indices])\n",
    "        if single_step:\n",
    "            labels.append(target[i+target_size])\n",
    "        else:\n",
    "            labels.append(target[i:i+target_size])\n",
    "    return np.array(data), np.array(labels)"
   ]
  },
  {
   "cell_type": "code",
   "execution_count": 293,
   "metadata": {},
   "outputs": [],
   "source": [
    "past_history = 6*24*5 # 5일 데이터 = 6*24*5\n",
    "future_target = 36 # 예측 n*10분 36일땐 6시간\n",
    "STEP = 24 # 메모리가 부족할 땐 높게\n",
    "BATCH_SIZE = 256\n",
    "BUFFER_SIZE = 10000\n",
    "EPOCHS2 = 5\n",
    "EVALUATION_INTERVAL = 200\n",
    "\n",
    "x_real = dataset[-6120:,]\n",
    "\n",
    "x_real_array, _ = multivariate_data(x_real, x_real[:, -1], 0, None, past_history, future_target, STEP)\n",
    "x_train_multi, y_train_multi = multivariate_data(dataset, dataset[:,-1], 0, 269424, past_history, future_target, STEP)\n",
    "x_val_multi, y_val_multi = multivariate_data(dataset, dataset[:,-1], 269424, None, past_history, future_target, STEP)"
   ]
  },
  {
   "cell_type": "code",
   "execution_count": 301,
   "metadata": {},
   "outputs": [],
   "source": [
    "train_data_multi = tf.data.Dataset.from_tensor_slices((x_train_multi, y_train_multi))\n",
    "train_data_multi = train_data_multi.cache().shuffle(BUFFER_SIZE).batch(BATCH_SIZE).repeat()\n",
    "\n",
    "val_data_multi = tf.data.Dataset.from_tensor_slices((x_val_multi, y_val_multi))\n",
    "val_data_multi = val_data_multi.cache().shuffle(BUFFER_SIZE).batch(BATCH_SIZE).repeat()"
   ]
  },
  {
   "cell_type": "code",
   "execution_count": 304,
   "metadata": {},
   "outputs": [
    {
     "name": "stdout",
     "output_type": "stream",
     "text": [
      "WARNING:tensorflow:Layer lstm_17 will not use cuDNN kernels since it doesn't meet the criteria. It will use a generic GPU kernel as fallback when running on GPU.\n",
      "WARNING:tensorflow:Layer lstm_17 will not use cuDNN kernels since it doesn't meet the criteria. It will use a generic GPU kernel as fallback when running on GPU.\n",
      "WARNING:tensorflow:Layer lstm_17 will not use cuDNN kernels since it doesn't meet the criteria. It will use a generic GPU kernel as fallback when running on GPU.\n",
      "Model: \"sequential_10\"\n",
      "_________________________________________________________________\n",
      "Layer (type)                 Output Shape              Param #   \n",
      "=================================================================\n",
      "lstm_16 (LSTM)               (None, 30, 256)           279552    \n",
      "_________________________________________________________________\n",
      "bidirectional_8 (Bidirection (None, 256)               394240    \n",
      "_________________________________________________________________\n",
      "dense_16 (Dense)             (None, 64)                16448     \n",
      "_________________________________________________________________\n",
      "dense_17 (Dense)             (None, 36)                2340      \n",
      "=================================================================\n",
      "Total params: 692,580\n",
      "Trainable params: 692,580\n",
      "Non-trainable params: 0\n",
      "_________________________________________________________________\n"
     ]
    }
   ],
   "source": [
    "import tensorflow as tf\n",
    "from keras.models import Sequential\n",
    "from keras.layers import Dense, LSTM, GRU, AveragePooling1D, GlobalAveragePooling1D, Dropout, TimeDistributed\n",
    "from keras.layers import Bidirectional\n",
    "multi_step_model = Sequential()\n",
    "multi_step_model.add((LSTM(256, input_shape=(x_train_multi.shape[-2:]), return_sequences = True)))\n",
    "multi_step_model.add(Bidirectional(LSTM(128, activation = 'relu')))\n",
    "multi_step_model.add(Dense(64, activation = 'relu'))\n",
    "multi_step_model.add(Dense(36))\n",
    "optimizer = tf.optimizers.Adam(clipvalue = 0.1)\n",
    "multi_step_model.compile(optimizer=optimizer,loss='mse')\n",
    "multi_step_model.summary()"
   ]
  },
  {
   "cell_type": "markdown",
   "metadata": {},
   "source": []
  },
  {
   "cell_type": "code",
   "execution_count": 307,
   "metadata": {},
   "outputs": [
    {
     "name": "stdout",
     "output_type": "stream",
     "text": [
      "Epoch 1/5\n",
      "200/200 [==============================] - 54s 259ms/step - loss: 0.2285 - val_loss: 0.3316\n",
      "Epoch 2/5\n",
      "200/200 [==============================] - 47s 233ms/step - loss: 0.0463 - val_loss: 0.2585\n",
      "Epoch 3/5\n",
      "200/200 [==============================] - 65s 324ms/step - loss: 0.0581 - val_loss: 0.1548\n",
      "Epoch 4/5\n",
      "200/200 [==============================] - 53s 265ms/step - loss: 0.0399 - val_loss: 0.1578\n",
      "Epoch 5/5\n",
      "200/200 [==============================] - 77s 386ms/step - loss: 0.0514 - val_loss: 0.1624\n"
     ]
    }
   ],
   "source": [
    "multi_step_history = multi_step_model.fit(train_data_multi, epochs = EPOCHS2, steps_per_epoch = EVALUATION_INTERVAL, validation_data = val_data_multi, validation_steps = 50)"
   ]
  },
  {
   "cell_type": "code",
   "execution_count": 308,
   "metadata": {},
   "outputs": [],
   "source": [
    "pred1 = multi_step_model.predict(x_real_array)\n",
    "real1 = mms2.inverse_transform(pred1[-1])"
   ]
  },
  {
   "cell_type": "code",
   "execution_count": 341,
   "metadata": {},
   "outputs": [
    {
     "data": {
      "text/plain": [
       "36"
      ]
     },
     "execution_count": 341,
     "metadata": {},
     "output_type": "execute_result"
    }
   ],
   "source": [
    "future_df = pd.read_csv(path + '/competition_data/종합7.19_.csv')\n",
    "future_df.index = future_df['ymdhm']\n",
    "future_df.index = pd.to_datetime(future_df.index, format='%Y-%m-%d %H:%M')\n",
    "future_df.index = future_df.index.to_period('T')\n",
    "future_df.drop(['ymdhm'], axis = 1, inplace = True)"
   ]
  },
  {
   "cell_type": "code",
   "execution_count": 342,
   "metadata": {},
   "outputs": [
    {
     "data": {
      "text/plain": [
       "<matplotlib.legend.Legend at 0x13885415dc0>"
      ]
     },
     "execution_count": 342,
     "metadata": {},
     "output_type": "execute_result"
    },
    {
     "data": {
      "image/png": "[encoded data removed]",
      "text/plain": [
       "<Figure size 432x288 with 1 Axes>"
      ]
     },
     "metadata": {
      "needs_background": "light"
     },
     "output_type": "display_data"
    }
   ],
   "source": [
    "plt.plot(range(36),real1, label = 'pred')\n",
    "plt.plot(range(36),np.array(future_df.loc[:'2022-07-19 11:50:00'].iloc[:,-4])[:36], label='-4')\n",
    "plt.plot(range(36),np.array(future_df.loc[:'2022-07-19 11:50:00'].iloc[:,-3])[:36], label='-3')\n",
    "plt.plot(range(36),np.array(future_df.loc[:'2022-07-19 11:50:00'].iloc[:,-2])[:36], label='-2')\n",
    "plt.plot(range(36),np.array(future_df.loc[:'2022-07-19 11:50:00'].iloc[:,-1])[:36], label='-1')\n",
    "plt.legend()"
   ]
  },
  {
   "cell_type": "code",
   "execution_count": null,
   "metadata": {},
   "outputs": [],
   "source": [
    "multi_step_model.save('행주대교')"
   ]
  },
  {
   "cell_type": "code",
   "execution_count": null,
   "metadata": {},
   "outputs": [],
   "source": []
  },
  {
   "cell_type": "code",
   "execution_count": null,
   "metadata": {},
   "outputs": [],
   "source": [
    "# 모델 불러와서 예측 및 그래프 html로 저장"
   ]
  },
  {
   "cell_type": "code",
   "execution_count": 45,
   "metadata": {},
   "outputs": [],
   "source": [
    "import pandas as pd\n",
    "import numpy as np\n",
    "import matplotlib.pyplot as plt\n",
    "import mpld3\n",
    "import database\n",
    "import tensorflow as tf\n",
    "from sklearn.preprocessing import StandardScaler"
   ]
  },
  {
   "cell_type": "code",
   "execution_count": 46,
   "metadata": {},
   "outputs": [
    {
     "name": "stdout",
     "output_type": "stream",
     "text": [
      "WARNING:tensorflow:Layer lstm_19 will not use cuDNN kernels since it doesn't meet the criteria. It will use a generic GPU kernel as fallback when running on GPU.\n",
      "WARNING:tensorflow:Layer lstm_19 will not use cuDNN kernels since it doesn't meet the criteria. It will use a generic GPU kernel as fallback when running on GPU.\n",
      "WARNING:tensorflow:Layer lstm_19 will not use cuDNN kernels since it doesn't meet the criteria. It will use a generic GPU kernel as fallback when running on GPU.\n"
     ]
    }
   ],
   "source": [
    "# load_model = tf.keras.models.load_model('잠수교6시간후예측모델')\n",
    "load_model = tf.keras.models.load_model('model')\n",
    "db = database.SqliteDb()\n",
    "db.connect('water.db')\n",
    "# df = db.get_dataframe('water_collection')\n",
    "df = db.get_dataframe('water_total')\n",
    "# df.drop('index', axis=1, inplace=True)\n",
    "df.drop('idx', axis=1, inplace=True)\n",
    "df.set_index('ymdhm', inplace=True)"
   ]
  },
  {
   "cell_type": "code",
   "execution_count": 47,
   "metadata": {},
   "outputs": [],
   "source": [
    "total_csv = pd.read_csv('total.csv')\n",
    "total_csv.set_index('ymdhm', inplace=True)\n",
    "mms1 = StandardScaler()\n",
    "mms2 = StandardScaler()\n",
    "mms1.fit(total_csv.iloc[:,:-1])\n",
    "mms2.fit(total_csv.iloc[:,-1:])\n",
    "\n",
    "dataset1 = mms1.transform(df.iloc[:,:-1])\n",
    "dataset2 = mms2.transform(df.iloc[:,-1:])\n",
    "dataset=np.concatenate([dataset1, dataset2], axis=1)"
   ]
  },
  {
   "cell_type": "code",
   "execution_count": 48,
   "metadata": {},
   "outputs": [],
   "source": [
    "def multivariate_data(dataset, target, start_index, end_index, history_size, target_size, step, single_step = False):\n",
    "    data = []\n",
    "    labels = []\n",
    "    start_index = start_index + history_size\n",
    "    if end_index is None:\n",
    "        end_index = len(dataset) - target_size\n",
    "    for i in range(start_index, end_index):\n",
    "        indices = range(i-history_size, i, step)\n",
    "        data.append(dataset[indices])\n",
    "        if single_step:\n",
    "            labels.append(target[i+target_size])\n",
    "        else:\n",
    "            labels.append(target[i:i+target_size])\n",
    "    return np.array(data), np.array(labels)"
   ]
  },
  {
   "cell_type": "code",
   "execution_count": 49,
   "metadata": {},
   "outputs": [],
   "source": [
    "past_history = 6*24*5 # 5일 데이터 = 6*24*5\n",
    "future_target = 36 # 예측 n*10분 36일땐 6시간\n",
    "STEP = 24 # 메모리가 부족할 땐 높게\n",
    "BATCH_SIZE = 256\n",
    "BUFFER_SIZE = 10000\n",
    "EPOCHS2 = 5\n",
    "EVALUATION_INTERVAL = 200\n",
    "\n",
    "x_real = dataset[-6120:,]\n",
    "x_real_array, _ = multivariate_data(x_real, x_real[:, -1], 0, None, past_history, future_target, STEP)"
   ]
  },
  {
   "cell_type": "code",
   "execution_count": 51,
   "metadata": {},
   "outputs": [],
   "source": [
    "pred = load_model.predict(x_real_array)\n",
    "future_array = mms2.inverse_transform(pred[-1])"
   ]
  },
  {
   "cell_type": "code",
   "execution_count": 53,
   "metadata": {},
   "outputs": [
    {
     "data": {
      "image/png": "[encoded data removed]",
      "text/plain": [
       "<Figure size 576x288 with 1 Axes>"
      ]
     },
     "metadata": {
      "needs_background": "light"
     },
     "output_type": "display_data"
    }
   ],
   "source": [
    "fig = plt.figure(figsize=(8,4))\n",
    "# plt.plot(range(36), real, label='real')\n",
    "plt.plot(range(36), future_array, label='predict')\n",
    "plt.xlabel('* 10min')\n",
    "plt.ylabel('water level')\n",
    "plt.legend()\n",
    "with open(\"pred_행주대교.html\", \"w\") as f:\n",
    "    f.write(mpld3.fig_to_html(fig, figid='level'))"
   ]
  }
 ],
 "metadata": {
  "kernelspec": {
   "display_name": "Python 3.8.8 ('base')",
   "language": "python",
   "name": "python3"
  },
  "language_info": {
   "codemirror_mode": {
    "name": "ipython",
    "version": 3
   },
   "file_extension": ".py",
   "mimetype": "text/x-python",
   "name": "python",
   "nbconvert_exporter": "python",
   "pygments_lexer": "ipython3",
   "version": "3.8.8"
  },
  "orig_nbformat": 4,
  "vscode": {
   "interpreter": {
    "hash": "2e1cdc0edf25740e169ccae173940c46fa954a902fd800c23bdf3a6ad0f6963c"
   }
  }
 },
 "nbformat": 4,
 "nbformat_minor": 2
}
